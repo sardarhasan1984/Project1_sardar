{
 "cells": [
  {
   "cell_type": "code",
   "execution_count": null,
   "id": "18673945",
   "metadata": {},
   "outputs": [],
   "source": []
  },
  {
   "cell_type": "code",
   "execution_count": 1,
   "id": "0d5692e0",
   "metadata": {},
   "outputs": [
    {
     "name": "stdin",
     "output_type": "stream",
     "text": [
      "Enter account holder's name:  sardar hasan\n"
     ]
    },
    {
     "name": "stdout",
     "output_type": "stream",
     "text": [
      "\n",
      "Meezan bank menegment system:\n",
      "1. Deposit Money\n",
      "2. Withdraw Money\n",
      "3. Check Balance\n",
      "4. Print Transaction Statement\n",
      "5. Exit\n"
     ]
    },
    {
     "name": "stdin",
     "output_type": "stream",
     "text": [
      "Enter your choice:  1\n",
      "Enter deposit amount:  5000\n"
     ]
    },
    {
     "name": "stdout",
     "output_type": "stream",
     "text": [
      "Deposit successful! New balance: 5000.0\n",
      "\n",
      "Meezan bank menegment system:\n",
      "1. Deposit Money\n",
      "2. Withdraw Money\n",
      "3. Check Balance\n",
      "4. Print Transaction Statement\n",
      "5. Exit\n"
     ]
    },
    {
     "name": "stdin",
     "output_type": "stream",
     "text": [
      "Enter your choice:  2\n",
      "Enter withdrawal amount:  3000\n"
     ]
    },
    {
     "name": "stdout",
     "output_type": "stream",
     "text": [
      "Withdrawal successful! New balance: 2000.0\n",
      "\n",
      "Meezan bank menegment system:\n",
      "1. Deposit Money\n",
      "2. Withdraw Money\n",
      "3. Check Balance\n",
      "4. Print Transaction Statement\n",
      "5. Exit\n"
     ]
    },
    {
     "name": "stdin",
     "output_type": "stream",
     "text": [
      "Enter your choice:  3\n"
     ]
    },
    {
     "name": "stdout",
     "output_type": "stream",
     "text": [
      "Current balance: 2000.0\n",
      "\n",
      "Meezan bank menegment system:\n",
      "1. Deposit Money\n",
      "2. Withdraw Money\n",
      "3. Check Balance\n",
      "4. Print Transaction Statement\n",
      "5. Exit\n"
     ]
    },
    {
     "name": "stdin",
     "output_type": "stream",
     "text": [
      "Enter your choice:  4\n"
     ]
    },
    {
     "name": "stdout",
     "output_type": "stream",
     "text": [
      "Transaction statement for sardar hasan:\n",
      "Deposited: 5000.0, New balance: 5000.0\n",
      "\n",
      "Withdrew: 3000.0, New balance: 2000.0\n",
      "\n",
      "\n",
      "Meezan bank menegment system:\n",
      "1. Deposit Money\n",
      "2. Withdraw Money\n",
      "3. Check Balance\n",
      "4. Print Transaction Statement\n",
      "5. Exit\n"
     ]
    },
    {
     "name": "stdin",
     "output_type": "stream",
     "text": [
      "Enter your choice:  5\n"
     ]
    },
    {
     "name": "stdout",
     "output_type": "stream",
     "text": [
      "Thank you for using the banking system!\n"
     ]
    }
   ],
   "source": [
    "def create_account(name, initial_balance=0.0):\n",
    "    account = {\n",
    "        \"name\": name,\n",
    "        \"balance\": initial_balance,\n",
    "        \"transactions\": []\n",
    "    }\n",
    "    return account\n",
    "def deposit(account, amount):\n",
    "    if amount <= 0:\n",
    "        print(\"Deposit amount must be positive.\")\n",
    "        return\n",
    "    \n",
    "    account[\"balance\"] += amount\n",
    "    transaction = f\"Deposited: {amount}, New balance: {account['balance']}\\n\"\n",
    "    account[\"transactions\"].append(transaction)\n",
    "    \n",
    "    # Writing transaction to a file\n",
    "    with open(f\"{account['name']}_transactions.txt\", \"a\") as file:\n",
    "        file.write(transaction)\n",
    "    \n",
    "    print(f\"Deposit successful! New balance: {account['balance']}\")\n",
    "def withdraw(account, amount):\n",
    "    if amount <= 0:\n",
    "        print(\"Withdrawal amount must be positive.\")\n",
    "        return\n",
    "    \n",
    "    if amount > account[\"balance\"]:\n",
    "        print(\"Insufficient balance.\")\n",
    "        return\n",
    "    \n",
    "    account[\"balance\"] -= amount\n",
    "    transaction = f\"Withdrew: {amount}, New balance: {account['balance']}\\n\"\n",
    "    account[\"transactions\"].append(transaction)\n",
    "    \n",
    "    # Writing transaction to a file\n",
    "    with open(f\"{account['name']}_transactions.txt\", \"a\") as file:\n",
    "        file.write(transaction)\n",
    "    \n",
    "    print(f\"Withdrawal successful! New balance: {account['balance']}\")\n",
    "def check_balance(account):\n",
    "    print(f\"Current balance: {account['balance']}\")\n",
    "def print_statement(account):\n",
    "    print(f\"Transaction statement for {account['name']}:\")\n",
    "    for transaction in account[\"transactions\"]:\n",
    "        print(transaction)\n",
    "def main():\n",
    "    # Creating an account\n",
    "    account_name = input(\"Enter account holder's name: \")\n",
    "    account = create_account(account_name)\n",
    "    \n",
    "    while True:\n",
    "        print(\"\\nMeezan bank menegment system:\")\n",
    "        print(\"1. Deposit Money\")\n",
    "        print(\"2. Withdraw Money\")\n",
    "        print(\"3. Check Balance\")\n",
    "        print(\"4. Print Transaction Statement\")\n",
    "        print(\"5. Exit\")\n",
    "        \n",
    "        choice = input(\"Enter your choice: \")\n",
    "        \n",
    "        if choice == \"1\":\n",
    "            amount = float(input(\"Enter deposit amount: \"))\n",
    "            deposit(account, amount)\n",
    "        \n",
    "        elif choice == \"2\":\n",
    "            amount = float(input(\"Enter withdrawal amount: \"))\n",
    "            withdraw(account, amount)\n",
    "        \n",
    "        elif choice == \"3\":\n",
    "            check_balance(account)\n",
    "        \n",
    "        elif choice == \"4\":\n",
    "            print_statement(account)\n",
    "        \n",
    "        elif choice == \"5\":\n",
    "            print(\"Thank you for using the banking system!\")\n",
    "            break\n",
    "        else:\n",
    "            print(\"Invalid choice. Please try again.\")\n",
    "\n",
    "# Run the program\n",
    "main()\n"
   ]
  },
  {
   "cell_type": "code",
   "execution_count": null,
   "id": "4575cccb",
   "metadata": {},
   "outputs": [],
   "source": []
  },
  {
   "cell_type": "code",
   "execution_count": null,
   "id": "e839b595",
   "metadata": {},
   "outputs": [],
   "source": []
  }
 ],
 "metadata": {
  "kernelspec": {
   "display_name": "Python 3 (ipykernel)",
   "language": "python",
   "name": "python3"
  },
  "language_info": {
   "codemirror_mode": {
    "name": "ipython",
    "version": 3
   },
   "file_extension": ".py",
   "mimetype": "text/x-python",
   "name": "python",
   "nbconvert_exporter": "python",
   "pygments_lexer": "ipython3",
   "version": "3.12.7"
  }
 },
 "nbformat": 4,
 "nbformat_minor": 5
}
